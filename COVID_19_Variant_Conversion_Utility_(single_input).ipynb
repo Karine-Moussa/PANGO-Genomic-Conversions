{
  "nbformat": 4,
  "nbformat_minor": 0,
  "metadata": {
    "colab": {
      "name": "COVID-19 Variant Conversion Utility (single input).ipynb",
      "provenance": [],
      "collapsed_sections": [],
      "include_colab_link": true
    },
    "kernelspec": {
      "name": "python3",
      "display_name": "Python 3"
    },
    "language_info": {
      "name": "python"
    }
  },
  "cells": [
    {
      "cell_type": "markdown",
      "metadata": {
        "id": "view-in-github",
        "colab_type": "text"
      },
      "source": [
        "<a href=\"https://colab.research.google.com/github/Karine-Moussa/PANGO-Genomic-Conversions/blob/main/COVID_19_Variant_Conversion_Utility_(single_input).ipynb\" target=\"_parent\"><img src=\"https://colab.research.google.com/assets/colab-badge.svg\" alt=\"Open In Colab\"/></a>"
      ]
    },
    {
      "cell_type": "markdown",
      "metadata": {
        "id": "7fbCNCGCftFP"
      },
      "source": [
        "# PANGO Mutation Nomenclature: Convert Genetic Location to Genomic Location\n",
        "\n",
        "\n",
        "---\n",
        "\n"
      ]
    },
    {
      "cell_type": "markdown",
      "metadata": {
        "id": "i2gZcKJvbSJn"
      },
      "source": [
        "# Instructions\n",
        "- In colab menu: *Runtime > Runall*\n",
        "\n",
        "- In the **Input** section, enter mutation of interest in PANGO format (then hit `enter`)\n",
        "\n",
        " - `[GENE]:[REF_AMINO_ACID][AMINO_ACID_LOC][ALT_AMINO_ACID]`\n",
        "\n",
        "   - Example: `S:D1118H`\n",
        " -  **Note:** do not include mutation type\n",
        "   - ie: ~~`aa:`~~`S:D1118H`\n",
        "\n",
        "---\n",
        "\n"
      ]
    },
    {
      "cell_type": "markdown",
      "metadata": {
        "id": "wcRZXUaXfaQU"
      },
      "source": [
        "## INPUT"
      ]
    },
    {
      "cell_type": "code",
      "metadata": {
        "id": "leqG5FZ4bdN2",
        "colab": {
          "base_uri": "https://localhost:8080/"
        },
        "outputId": "770a7649-44d8-443d-b79c-23d5e738bd55"
      },
      "source": [
        "# Input mutation of interest\n",
        "import re\n",
        "while True:\n",
        "  mut_input = input()\n",
        " # Verify nomenclature\n",
        "  if re.match(\"([a-z 0-9]+):([a-z]+)([0-9]+)([a-z\\*]+)\", mut_input, flags=re.IGNORECASE):\n",
        "    mutation = mut_input\n",
        "    break\n",
        "  else:\n",
        "    print(\"Try again:\")\n"
      ],
      "execution_count": null,
      "outputs": [
        {
          "output_type": "stream",
          "text": [
            "S:D1118H\n"
          ],
          "name": "stdout"
        }
      ]
    },
    {
      "cell_type": "markdown",
      "metadata": {
        "id": "XWyY-_pQiigw"
      },
      "source": [
        "# MAIN"
      ]
    },
    {
      "cell_type": "markdown",
      "metadata": {
        "id": "HDeGC55rJ45R"
      },
      "source": [
        "## Set up"
      ]
    },
    {
      "cell_type": "code",
      "metadata": {
        "id": "VmMB3289EnI1",
        "colab": {
          "base_uri": "https://localhost:8080/"
        },
        "outputId": "9b32d077-5a77-4c6d-831f-3f58c5b01ffd"
      },
      "source": [
        "# Install python packages\n",
        "!pip -q install pyfaidx # -q suppresses pip output message"
      ],
      "execution_count": null,
      "outputs": [
        {
          "output_type": "stream",
          "text": [
            "  Building wheel for pyfaidx (setup.py) ... \u001b[?25l\u001b[?25hdone\n"
          ],
          "name": "stdout"
        }
      ]
    },
    {
      "cell_type": "code",
      "metadata": {
        "id": "VMxI6FzPECyt"
      },
      "source": [
        "# Import python libraries\n",
        "import os.path\n",
        "from os import path\n",
        "import pandas as pd\n",
        "from pyfaidx import Fasta"
      ],
      "execution_count": null,
      "outputs": []
    },
    {
      "cell_type": "code",
      "metadata": {
        "id": "Dr6GQ0pfEwXf",
        "colab": {
          "base_uri": "https://localhost:8080/"
        },
        "outputId": "51cfcdb2-7c98-40aa-91be-6eff9072fe13"
      },
      "source": [
        "# Get Genome\n",
        "if path.exists(\"GCF_009858895.2_ASM985889v3_genomic.fna\") == False:\n",
        "  !wget https://ftp.ncbi.nlm.nih.gov/genomes/all/GCF/009/858/895/GCF_009858895.2_ASM985889v3/GCF_009858895.2_ASM985889v3_genomic.fna.gz\n",
        "  !gunzip GCF_009858895.2_ASM985889v3_genomic.fna.gz"
      ],
      "execution_count": null,
      "outputs": [
        {
          "output_type": "stream",
          "text": [
            "--2021-05-01 15:31:43--  https://ftp.ncbi.nlm.nih.gov/genomes/all/GCF/009/858/895/GCF_009858895.2_ASM985889v3/GCF_009858895.2_ASM985889v3_genomic.fna.gz\n",
            "Resolving ftp.ncbi.nlm.nih.gov (ftp.ncbi.nlm.nih.gov)... 130.14.250.11, 130.14.250.7, 2607:f220:41e:250::10, ...\n",
            "Connecting to ftp.ncbi.nlm.nih.gov (ftp.ncbi.nlm.nih.gov)|130.14.250.11|:443... connected.\n",
            "HTTP request sent, awaiting response... 200 OK\n",
            "Length: 9591 (9.4K) [application/x-gzip]\n",
            "Saving to: ‘GCF_009858895.2_ASM985889v3_genomic.fna.gz’\n",
            "\n",
            "GCF_009858895.2_ASM 100%[===================>]   9.37K  --.-KB/s    in 0s      \n",
            "\n",
            "2021-05-01 15:31:43 (139 MB/s) - ‘GCF_009858895.2_ASM985889v3_genomic.fna.gz’ saved [9591/9591]\n",
            "\n"
          ],
          "name": "stdout"
        }
      ]
    },
    {
      "cell_type": "code",
      "metadata": {
        "id": "4HwEblcvFiYx",
        "colab": {
          "base_uri": "https://localhost:8080/"
        },
        "outputId": "fd7be02e-4a45-4af7-be26-3a3af270a61b"
      },
      "source": [
        "# Get genome gff \n",
        "if path.exists(\"GCF_009858895.2_ASM985889v3_genomic.gff\") == False:\n",
        "  !wget https://ftp.ncbi.nlm.nih.gov/genomes/all/GCF/009/858/895/GCF_009858895.2_ASM985889v3/GCF_009858895.2_ASM985889v3_genomic.gff.gz\n",
        "  !gunzip GCF_009858895.2_ASM985889v3_genomic.gff"
      ],
      "execution_count": null,
      "outputs": [
        {
          "output_type": "stream",
          "text": [
            "--2021-05-01 15:31:44--  https://ftp.ncbi.nlm.nih.gov/genomes/all/GCF/009/858/895/GCF_009858895.2_ASM985889v3/GCF_009858895.2_ASM985889v3_genomic.gff.gz\n",
            "Resolving ftp.ncbi.nlm.nih.gov (ftp.ncbi.nlm.nih.gov)... 130.14.250.11, 130.14.250.7, 2607:f220:41e:250::10, ...\n",
            "Connecting to ftp.ncbi.nlm.nih.gov (ftp.ncbi.nlm.nih.gov)|130.14.250.11|:443... connected.\n",
            "HTTP request sent, awaiting response... 200 OK\n",
            "Length: 2914 (2.8K) [application/x-gzip]\n",
            "Saving to: ‘GCF_009858895.2_ASM985889v3_genomic.gff.gz’\n",
            "\n",
            "\r          GCF_00985   0%[                    ]       0  --.-KB/s               \rGCF_009858895.2_ASM 100%[===================>]   2.85K  --.-KB/s    in 0s      \n",
            "\n",
            "2021-05-01 15:31:44 (139 MB/s) - ‘GCF_009858895.2_ASM985889v3_genomic.gff.gz’ saved [2914/2914]\n",
            "\n"
          ],
          "name": "stdout"
        }
      ]
    },
    {
      "cell_type": "code",
      "metadata": {
        "id": "TKjhJKcVa6Co"
      },
      "source": [
        "# Load genome, grab DNA like genome[\"NC_045512.2\"][start:end]\n",
        "genome = Fasta('GCF_009858895.2_ASM985889v3_genomic.fna')"
      ],
      "execution_count": null,
      "outputs": []
    },
    {
      "cell_type": "code",
      "metadata": {
        "id": "PADCqsATfWuM"
      },
      "source": [
        "# Load gff as pandas data frame\n",
        "df = pd.read_csv(\"GCF_009858895.2_ASM985889v3_genomic.gff\", comment=\"#\", sep=\"\\t\", header=None)"
      ],
      "execution_count": null,
      "outputs": []
    },
    {
      "cell_type": "markdown",
      "metadata": {
        "id": "mHmxFkXjJw6J"
      },
      "source": [
        "## Conversion"
      ]
    },
    {
      "cell_type": "code",
      "metadata": {
        "id": "GmWDai-MEJRZ"
      },
      "source": [
        "codon_table = {\"TTT\": \"F\", \"TTC\": \"F\", \"TTA\": \"L\", \"TTG\": \"L\",\n",
        "               \"CTT\": \"L\", \"CTC\": \"L\", \"CTA\": \"L\", \"CTG\": \"L\",\n",
        "               \"ATT\": \"I\", \"ATC\": \"I\", \"ATA\": \"I\", \"ATG\": \"M\",\n",
        "               \"GTT\": \"V\", \"GTC\": \"V\", \"GTA\": \"V\", \"GTG\": \"V\",\n",
        "               \"TCT\": \"S\", \"TCC\": \"S\", \"TCA\": \"S\", \"TCG\": \"S\",\n",
        "               \"CCT\": \"P\", \"CCC\": \"P\", \"CCA\": \"P\", \"CCG\": \"P\",\n",
        "               \"ACT\": \"T\", \"ACC\": \"T\", \"ACA\": \"T\", \"ACG\": \"T\",\n",
        "               \"GCT\": \"A\", \"GCC\": \"A\", \"GCA\": \"A\", \"GCG\": \"A\",\n",
        "               \"TAT\": \"Y\", \"TAC\": \"Y\", \"TAA\": \"*\", \"TAG\": \"*\",\n",
        "               \"CAT\": \"H\", \"CAC\": \"H\", \"CAA\": \"Q\", \"CAG\": \"Q\",\n",
        "               \"AAT\": \"N\", \"AAC\": \"N\", \"AAA\": \"K\", \"AAG\": \"K\",\n",
        "               \"GAT\": \"D\", \"GAC\": \"D\", \"GAA\": \"E\", \"GAG\": \"E\",\n",
        "               \"TGT\": \"C\", \"TGC\": \"C\", \"TGA\": \"*\", \"TGG\": \"W\",\n",
        "               \"CGT\": \"R\", \"CGC\": \"R\", \"CGA\": \"R\", \"CGG\": \"R\",\n",
        "               \"AGT\": \"S\", \"AGC\": \"S\", \"AGA\": \"R\", \"AGG\": \"R\",\n",
        "               \"GGT\": \"G\", \"GGC\": \"G\", \"GGA\": \"G\", \"GGG\": \"G\"}"
      ],
      "execution_count": null,
      "outputs": []
    },
    {
      "cell_type": "code",
      "metadata": {
        "id": "Onn9KshSEMQ-"
      },
      "source": [
        "# Create dna -> aa translate function\n",
        "def translate(seq):\n",
        "    p = \"\"\n",
        "    for loc in range(0, len(seq), 3):\n",
        "        p += codon_table[seq[loc:loc+3]]\n",
        "    return p"
      ],
      "execution_count": null,
      "outputs": []
    },
    {
      "cell_type": "code",
      "metadata": {
        "id": "T6a4NDS4XPkx"
      },
      "source": [
        "# Parse mutation format.\n",
        "gene_name, before, loc, after = re.match(\"([a-z 0-9]+):([a-z]+)([0-9]+)([a-z\\*]+)\", mutation, flags=re.IGNORECASE).groups()\n",
        "loc = int(loc)"
      ],
      "execution_count": null,
      "outputs": []
    },
    {
      "cell_type": "code",
      "metadata": {
        "id": "ZjZh9HdEEU6o",
        "colab": {
          "base_uri": "https://localhost:8080/"
        },
        "outputId": "8ff25b06-d1b0-475f-9334-d41e1aec533b"
      },
      "source": [
        "# Collect GFF information on gene\n",
        "df = df[df[2] == \"gene\"]\n",
        "df[8] = df[8].apply(lambda line: [n.lstrip(\"gene=\").lower() for n in line.split(\";\") if n.startswith(\"gene=\")][0])\n",
        "gene_data = df[df[8] == gene_name.lower()].to_dict(\"records\")[0]\n",
        "gene_data\n"
      ],
      "execution_count": null,
      "outputs": [
        {
          "output_type": "execute_result",
          "data": {
            "text/plain": [
              "{0: 'NC_045512.2',\n",
              " 1: 'RefSeq',\n",
              " 2: 'gene',\n",
              " 3: 21563,\n",
              " 4: 25384,\n",
              " 5: '.',\n",
              " 6: '+',\n",
              " 7: '.',\n",
              " 8: 's'}"
            ]
          },
          "metadata": {
            "tags": []
          },
          "execution_count": 21
        }
      ]
    },
    {
      "cell_type": "code",
      "metadata": {
        "id": "DNYKr9oLK8ij"
      },
      "source": [
        "### Locate the amino acid in the genome\n",
        "start, end = (gene_data[3]-1 + 3*(loc-1), gene_data[3]-1 + 3*(loc-1) + 3)"
      ],
      "execution_count": null,
      "outputs": []
    },
    {
      "cell_type": "markdown",
      "metadata": {
        "id": "_-CpLVl9hv_R"
      },
      "source": [
        "## Check"
      ]
    },
    {
      "cell_type": "code",
      "metadata": {
        "id": "V7rhyHY_hvi6",
        "colab": {
          "base_uri": "https://localhost:8080/"
        },
        "outputId": "3c7ee63b-8c7e-4dfe-9e07-4bdaf756f762"
      },
      "source": [
        "# Check:\n",
        "check = translate(str(genome[\"NC_045512.2\"][start:end]))\n",
        "print(f\"PANGO\\t\\tRef Amino Acid:\\t%s\" % before)  \n",
        "print(f\"Converter\\tRef Amino Acid:\\t%s\" % check)\n",
        "check_flag = True\n",
        "if before != check: check_flag = False; print(\"Check Failed\")"
      ],
      "execution_count": null,
      "outputs": [
        {
          "output_type": "stream",
          "text": [
            "PANGO\t\tRef Amino Acid:\tD\n",
            "Converter\tRef Amino Acid:\tD\n"
          ],
          "name": "stdout"
        }
      ]
    },
    {
      "cell_type": "code",
      "metadata": {
        "id": "kJua5QbkrE0T"
      },
      "source": [
        "# Prepare final output\n",
        "output = \"\"\n",
        "output += \"PANGO Mutation\\t\\t{}\\n\".format(mutation)\n",
        "output += \"Genomic Start Loc:\\t{}\\n\".format(start)\n",
        "output += \"Genomic End Loc:\\t{}\\n\".format(end)\n",
        "output += \"Genomic Amino Acid:\\t{}\\n\".format(check)\n",
        "if check_flag == False:\n",
        "  output += (\"Note: Amino Acid Verification failed\")"
      ],
      "execution_count": null,
      "outputs": []
    },
    {
      "cell_type": "markdown",
      "metadata": {
        "id": "fTLPNjfZcyEe"
      },
      "source": [
        "# OUTPUT"
      ]
    },
    {
      "cell_type": "code",
      "metadata": {
        "id": "kbl26t8-c2Xn",
        "colab": {
          "base_uri": "https://localhost:8080/"
        },
        "outputId": "665504a2-e47a-4049-f826-82aa7b324f61"
      },
      "source": [
        "print(output)"
      ],
      "execution_count": null,
      "outputs": [
        {
          "output_type": "stream",
          "text": [
            "PANGO Mutation\t\tS:D1118H\n",
            "Genomic Start Loc:\t24913\n",
            "Genomic End Loc:\t24916\n",
            "Genomic Amino Acid:\tD\n",
            "\n"
          ],
          "name": "stdout"
        }
      ]
    }
  ]
}